{
  "nbformat": 4,
  "nbformat_minor": 0,
  "metadata": {
    "colab": {
      "provenance": []
    },
    "kernelspec": {
      "name": "python3",
      "display_name": "Python 3"
    },
    "language_info": {
      "name": "python"
    }
  },
  "cells": [
    {
      "cell_type": "code",
      "source": [
        "from google.colab import drive\n",
        "drive.mount('/content/drive')"
      ],
      "metadata": {
        "colab": {
          "base_uri": "https://localhost:8080/"
        },
        "id": "lcWmtouLInAL",
        "outputId": "7700227d-3e9e-4de0-d1e4-013f2bd3d1cd"
      },
      "execution_count": null,
      "outputs": [
        {
          "output_type": "stream",
          "name": "stdout",
          "text": [
            "Mounted at /content/drive\n"
          ]
        }
      ]
    },
    {
      "cell_type": "code",
      "source": [
        "!pip install -q twstock"
      ],
      "metadata": {
        "colab": {
          "base_uri": "https://localhost:8080/"
        },
        "id": "FSis5JRmEPXW",
        "outputId": "158b9a6a-49e5-4c22-ebe1-24e2917589f6"
      },
      "execution_count": null,
      "outputs": [
        {
          "output_type": "stream",
          "name": "stdout",
          "text": [
            "\u001b[2K     \u001b[90m━━━━━━━━━━━━━━━━━━━━━━━━━━━━━━━━━━━━━━━━\u001b[0m \u001b[32m626.1/626.1 kB\u001b[0m \u001b[31m3.7 MB/s\u001b[0m eta \u001b[36m0:00:00\u001b[0m\n",
            "\u001b[?25h"
          ]
        }
      ]
    },
    {
      "cell_type": "code",
      "source": [
        "import csv\n",
        "from twstock import Stock\n",
        "import numpy as np\n",
        "\n",
        "# 求某年至2024 3月之前的資訊\n",
        "def get_stock_info_between_years_to_csv(stock_id, start_year=2000):\n",
        "    # 使用 twstock 模組的 Stock 類來獲取股票資訊\n",
        "    stock = Stock(stock_id)\n",
        "\n",
        "    # 初始化一個空列表來存儲資訊\n",
        "    all_info = []\n",
        "    # 取從開始年到現今的紀錄\n",
        "    info = stock.fetch_from(start_year, 1)\n",
        "    all_info.extend(info)\n",
        "    # 找到2024年3月之後的第一個索引\n",
        "    for i, data in enumerate(all_info):\n",
        "        if data.date.year == 2024 and data.date.month >= 3:\n",
        "            break\n",
        "    else:\n",
        "        i = len(all_info)  # 如果找不到2024年3月之後的資訊，保留全部\n",
        "\n",
        "    # 刪除2024年3月之後的紀錄\n",
        "    all_info = all_info[:i]\n",
        "    # 將資訊寫入 CSV 檔案\n",
        "    filename = f\"/content/drive/MyDrive/LSTM/input/stock_train/{stock_id}_{start_year}_to_202402.csv\"\n",
        "    with open(filename, 'w', newline='', encoding='utf-8') as csvfile:\n",
        "        csvwriter = csv.writer(csvfile)\n",
        "\n",
        "        # 寫入 CSV 標題行\n",
        "        csvwriter.writerow(['Open', 'High', 'Low', 'Close', 'Change', 'Volume' , 'Date'])\n",
        "\n",
        "        # 寫入資訊行\n",
        "        for data in all_info:\n",
        "            csvwriter.writerow([data.open, data.high, data.low, data.close, data.change, data.capacity, data.date.strftime('%Y-%m-%d')])\n",
        "\n",
        "    print(f\"已將 {stock_id} 在 {start_year} 年至 2024 年 2 月的資訊儲存為 {filename}\")\n",
        "\n",
        "# 使用範例\n",
        "# stock_id = '3711'  # 台積電的股票代碼\n",
        "# start_year = 1985  # 開始年份\n",
        "# get_stock_info_between_years_to_csv(stock_id, start_year)\n",
        "get_stock_info_between_years_to_csv('2330', 2000)"
      ],
      "metadata": {
        "id": "AUNvdO9EONde",
        "colab": {
          "base_uri": "https://localhost:8080/"
        },
        "outputId": "10f9ea62-0a72-4a55-8cb5-f1fd9a45954d"
      },
      "execution_count": null,
      "outputs": [
        {
          "output_type": "stream",
          "name": "stdout",
          "text": [
            "已將 2330 在 2000 年至 2024 年 2 月的資訊儲存為 /content/drive/MyDrive/LSTM/input/stock_train/2330_2000_to_202402.csv\n"
          ]
        }
      ]
    },
    {
      "cell_type": "code",
      "source": [
        "\"\"\"\n",
        "以下是從上市時間就開始取資料的方法，但我認為這樣的資訊會有問題，所以就全部預設2010\n",
        "\"\"\"\n",
        "# get_stock_info_between_years_to_csv('2330', 1994)\n",
        "# get_stock_info_between_years_to_csv('2317', 1991)\n",
        "# get_stock_info_between_years_to_csv('2454', 2001)\n",
        "# get_stock_info_between_years_to_csv('2382', 1999)\n",
        "# get_stock_info_between_years_to_csv('2412', 2000)\n",
        "# get_stock_info_between_years_to_csv('2881', 2001)\n",
        "# get_stock_info_between_years_to_csv('2308', 1988)\n",
        "# get_stock_info_between_years_to_csv('2882', 2001)\n",
        "# get_stock_info_between_years_to_csv('2891', 2002)\n",
        "# get_stock_info_between_years_to_csv('3711', 2018)"
      ],
      "metadata": {
        "id": "mKcCYb6MbAID"
      },
      "execution_count": null,
      "outputs": []
    },
    {
      "cell_type": "code",
      "source": [
        "import csv\n",
        "from twstock import Stock\n",
        "stock = Stock('2330')\n",
        "info = stock.fetch_from(2024, 6)\n",
        "print(info)"
      ],
      "metadata": {
        "colab": {
          "base_uri": "https://localhost:8080/"
        },
        "id": "Nxycmvju8pav",
        "outputId": "16bc08ff-1422-4214-e397-72a632dcd08a"
      },
      "execution_count": null,
      "outputs": [
        {
          "output_type": "stream",
          "name": "stdout",
          "text": [
            "[Data(date=datetime.datetime(2024, 6, 3, 0, 0), capacity=29629706, turnover=25053781742, open=839.0, high=853.0, low=837.0, close=846.0, change=25.0, transaction=40694), Data(date=datetime.datetime(2024, 6, 4, 0, 0), capacity=31031104, turnover=26107162214, open=844.0, high=851.0, low=837.0, close=839.0, change=-7.0, transaction=52392), Data(date=datetime.datetime(2024, 6, 5, 0, 0), capacity=37531781, turnover=31774150536, open=841.0, high=857.0, low=835.0, close=854.0, change=15.0, transaction=41869)]\n"
          ]
        }
      ]
    },
    {
      "cell_type": "code",
      "source": [
        "import twstock\n",
        "import datetime\n",
        "import pickle\n",
        "import numpy as np\n",
        "import torch\n",
        "import torch.nn as nn\n",
        "\n",
        "######## 路徑修改 ########\n",
        "model_path = \"/content/drive/MyDrive/LSTM/model/LSTM_class_2024_06_10_14_00_56_3\"\n",
        "scaler_path = '/content/drive/MyDrive/LSTM/input/stock_train/scaler.pkl'\n",
        "######## 路徑修改 ########\n",
        "\n",
        "\n",
        "#############################\n",
        "### 模型載入並且開啟評估模式\n",
        "# 檢查CUDA是否可用\n",
        "USE_CUDA = torch.cuda.is_available()\n",
        "# 設定GPU可用則使用cuda:0，不可用則用CPU\n",
        "device = torch.device('cuda:0' if USE_CUDA else 'cpu')\n",
        "\n",
        "# 定義相同的LSTM\n",
        "class LSTM(nn.Module):\n",
        "    def __init__(self, input_dim, hidden_dim, num_layers, output_dim, dropout):\n",
        "        # 調用父類 nn.Module 的構造函數\n",
        "        super(LSTM, self).__init__()\n",
        "        # 設定 LSTM 模型的隱藏層維度\n",
        "        self.hidden_dim = hidden_dim\n",
        "        # 設定 LSTM 模型的層數\n",
        "        self.num_layers = num_layers\n",
        "        # 創建 LSTM 層，指定輸入維度、隱藏層維度、層數和批次優先的設置\n",
        "        self.lstm = nn.LSTM(input_dim, hidden_dim, num_layers, batch_first=True, dropout=dropout)\n",
        "        # 創建全連接層，將隱藏層的輸出映射到輸出維度\n",
        "        self.fc = nn.Linear(hidden_dim, output_dim)\n",
        "\n",
        "    def forward(self, x):\n",
        "        # 初始化 LSTM 的隱藏狀態和細胞狀態，設置為全零，並移動到指定設備\n",
        "        h0 = torch.zeros(self.num_layers, x.size(0), self.hidden_dim).requires_grad_().to(device)\n",
        "        c0 = torch.zeros(self.num_layers, x.size(0), self.hidden_dim).requires_grad_().to(device)\n",
        "        # 將輸入數據移動到指定設備，並傳遞給 LSTM 層，得到輸出和新的隱藏狀態、細胞狀態\n",
        "        out, (hn, cn) = self.lstm(x.to(device), (h0.detach(), c0.detach()))\n",
        "        # 將 LSTM 的輸出傳遞給全連接層，僅使用最後一個時間步的輸出\n",
        "        out = self.fc(out[:, -1, :])\n",
        "        # 將最終輸出移動到指定設備並返回\n",
        "        return out.to(device)\n",
        "# 設定超參數\n",
        "# 獲取輸入數據的維度\n",
        "input_dim = 5\n",
        "# 設定 LSTM 模型的隱藏層維度\n",
        "hidden_dim = 200\n",
        "# 設定 LSTM 模型的層數\n",
        "num_layers = 2\n",
        "# 設定模型的輸出維度\n",
        "output_dim = 3\n",
        "# 設定LSTM堆疊的dropout層\n",
        "dropout = 0.001\n",
        "\n",
        "\n",
        "model = LSTM(input_dim, hidden_dim, num_layers, output_dim, dropout).to(device)\n",
        "model.load_state_dict(torch.load(model_path, map_location=device))\n",
        "model.eval()  # 開啟評估模式\n",
        "### 模型載入並且開啟評估模式\n",
        "#############################\n",
        "def date_com(data_date, today):\n",
        "    if isinstance(data_date, str):\n",
        "        data_date = datetime.datetime.strptime(data_date, '%Y-%m-%d').date()\n",
        "    if isinstance(today, str):\n",
        "        today = datetime.datetime.strptime(today, '%Y-%m-%d').date()\n",
        "\n",
        "    return data_date <= today\n",
        "\n",
        "def get_recent_nine_days_data(stock_id='2330'):\n",
        "    # 獲取當前日期\n",
        "    today = datetime.datetime.today().date()\n",
        "    # 取得股票資料\n",
        "    stock = twstock.Stock(stock_id)\n",
        "    all_data = stock.fetch_31()  # 取最新31天的資料\n",
        "    if(len(all_data)<10):\n",
        "      return None\n",
        "    # 篩選最近9天的資料\n",
        "    recent_nine_days_data = []\n",
        "    for data in all_data:\n",
        "        # 確保所有日期比較都是同一類型\n",
        "        #print(data.date.strftime('%Y-%m-%d'))\n",
        "        data_date = data.date.strftime('%Y-%m-%d')\n",
        "        if date_com(data_date, today):\n",
        "            recent_nine_days_data.append([\n",
        "                data.open, # 0\n",
        "                data.high, # 1\n",
        "                data.low, # 2\n",
        "                data.close, # 3\n",
        "                data.change, # 4\n",
        "                data.capacity, # 5\n",
        "                data_date, # 6\n",
        "            ])\n",
        "\n",
        "    # 按日期排序\n",
        "    # recent_nine_days_data.sort(key=lambda x: x['Date'])\n",
        "    recent_nine_days_data.sort(key=lambda x: x[6])\n",
        "    return recent_nine_days_data\n",
        "def stock_change_predicted(stock_id):\n",
        "  stock_data = get_recent_nine_days_data(stock_id=stock_id)[-10:]\n",
        "  if (stock_data == None):\n",
        "    return \"請求的股票資訊過少 或 twstock套件發生異常\"\n",
        "  else:\n",
        "    # 將日期從資料中移除\n",
        "    data_values = [entry[0:6] for entry in stock_data]\n",
        "    #print(data_values[0])\n",
        "    # 加载scaler对象\n",
        "    with open(scaler_path, 'rb') as f:\n",
        "        scaler = pickle.load(f)\n",
        "    #scaler = MinMaxScaler()\n",
        "    def get_features(data):\n",
        "      result = []\n",
        "      for sublist in data:\n",
        "          # 提取索引为0到3以及5的元素\n",
        "          extracted_values = sublist[0:4] + [sublist[5]]\n",
        "          result.append(extracted_values)\n",
        "      return result\n",
        "    features = get_features(data_values)\n",
        "    scaled_stock_data = scaler.fit_transform(features)\n",
        "    #print(scaled_stock_data)\n",
        "    new_data_tensor = torch.tensor([scaled_stock_data], dtype=torch.float32).to(device)\n",
        "\n",
        "    outputs = model(new_data_tensor)\n",
        "\n",
        "    _, predicted = torch.max(outputs, 1)\n",
        "    predicted = predicted[0].detach().cpu().numpy()\n",
        "\n",
        "    if(predicted==1):\n",
        "      return \"長\" # \"今天收盤比昨天高\"\n",
        "    elif(predicted==0):\n",
        "      return \"同\" # \"今天收盤比昨天一樣價\"\n",
        "    else:\n",
        "      return \"跌\" # \"今天收盤可能比昨天低\"\n",
        "\n",
        "\n",
        "######## 預測執行 ########\n",
        "stock_id = input(\"查詢股票id:\")\n",
        "print(stock_change_predicted(stock_id))\n",
        "######## 預測執行 ########\n"
      ],
      "metadata": {
        "colab": {
          "base_uri": "https://localhost:8080/"
        },
        "id": "3C0B-Fzymfir",
        "outputId": "14a1babf-3b1d-4b28-89cf-fc1de4bb8741"
      },
      "execution_count": null,
      "outputs": [
        {
          "output_type": "stream",
          "name": "stdout",
          "text": [
            "查詢股票id:2317\n",
            "跌\n"
          ]
        }
      ]
    }
  ]
}